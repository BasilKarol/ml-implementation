{
  "cells": [
    {
      "cell_type": "markdown",
      "metadata": {
        "id": "UDU8qyomsasd"
      },
      "source": [
        "# **Linear regression implementation using numpy**"
      ]
    },
    {
      "cell_type": "code",
      "execution_count": 211,
      "metadata": {
        "id": "QqkaIn2mW0UI"
      },
      "outputs": [],
      "source": [
        "import numpy as np\n",
        "import matplotlib.pyplot as plt\n",
        "import pandas as pd\n",
        "from sklearn.linear_model import LinearRegression as SK_LinearRegression\n",
        "from sklearn.metrics import r2_score\n",
        "from sklearn.model_selection import train_test_split\n",
        "from sklearn.preprocessing import RobustScaler "
      ]
    },
    {
      "cell_type": "markdown",
      "metadata": {},
      "source": [
        "## Data preparation using Pandas"
      ]
    },
    {
      "cell_type": "code",
      "execution_count": 212,
      "metadata": {},
      "outputs": [
        {
          "data": {
            "text/html": [
              "<div>\n",
              "<style scoped>\n",
              "    .dataframe tbody tr th:only-of-type {\n",
              "        vertical-align: middle;\n",
              "    }\n",
              "\n",
              "    .dataframe tbody tr th {\n",
              "        vertical-align: top;\n",
              "    }\n",
              "\n",
              "    .dataframe thead th {\n",
              "        text-align: right;\n",
              "    }\n",
              "</style>\n",
              "<table border=\"1\" class=\"dataframe\">\n",
              "  <thead>\n",
              "    <tr style=\"text-align: right;\">\n",
              "      <th></th>\n",
              "      <th>Car Name</th>\n",
              "      <th>Year</th>\n",
              "      <th>Selling Price</th>\n",
              "      <th>Present Price</th>\n",
              "      <th>Kms Driven</th>\n",
              "      <th>Fuel Type</th>\n",
              "      <th>Seller Type</th>\n",
              "      <th>Transmission</th>\n",
              "      <th>Owner</th>\n",
              "    </tr>\n",
              "  </thead>\n",
              "  <tbody>\n",
              "    <tr>\n",
              "      <th>0</th>\n",
              "      <td>ritz</td>\n",
              "      <td>2014</td>\n",
              "      <td>3.35</td>\n",
              "      <td>5.59</td>\n",
              "      <td>27000</td>\n",
              "      <td>Petrol</td>\n",
              "      <td>Dealer</td>\n",
              "      <td>Manual</td>\n",
              "      <td>0</td>\n",
              "    </tr>\n",
              "    <tr>\n",
              "      <th>1</th>\n",
              "      <td>sx4</td>\n",
              "      <td>2013</td>\n",
              "      <td>4.75</td>\n",
              "      <td>9.54</td>\n",
              "      <td>43000</td>\n",
              "      <td>Diesel</td>\n",
              "      <td>Dealer</td>\n",
              "      <td>Manual</td>\n",
              "      <td>0</td>\n",
              "    </tr>\n",
              "  </tbody>\n",
              "</table>\n",
              "</div>"
            ],
            "text/plain": [
              "  Car Name  Year  Selling Price  Present Price  Kms Driven Fuel Type  \\\n",
              "0     ritz  2014           3.35           5.59       27000    Petrol   \n",
              "1      sx4  2013           4.75           9.54       43000    Diesel   \n",
              "\n",
              "  Seller Type Transmission  Owner  \n",
              "0      Dealer       Manual      0  \n",
              "1      Dealer       Manual      0  "
            ]
          },
          "execution_count": 212,
          "metadata": {},
          "output_type": "execute_result"
        }
      ],
      "source": [
        "data = pd.read_csv('./car_dataset/car data.csv')\n",
        "# I hate underscores\n",
        "data.columns = data.columns.map(\n",
        "    lambda x: ' '.join(x.split('_'))\n",
        "    )\n",
        "data.head(2)"
      ]
    },
    {
      "cell_type": "code",
      "execution_count": 213,
      "metadata": {},
      "outputs": [
        {
          "name": "stderr",
          "output_type": "stream",
          "text": [
            "C:\\Users\\Henti\\AppData\\Local\\Temp\\ipykernel_17356\\2343027753.py:2: FutureWarning: Downcasting behavior in `replace` is deprecated and will be removed in a future version. To retain the old behavior, explicitly call `result.infer_objects(copy=False)`. To opt-in to the future behavior, set `pd.set_option('future.no_silent_downcasting', True)`\n",
            "  data = data.replace({'Fuel Type':{'Petrol':0,'Diesel':1,'CNG':2}})\n",
            "C:\\Users\\Henti\\AppData\\Local\\Temp\\ipykernel_17356\\2343027753.py:3: FutureWarning: Downcasting behavior in `replace` is deprecated and will be removed in a future version. To retain the old behavior, explicitly call `result.infer_objects(copy=False)`. To opt-in to the future behavior, set `pd.set_option('future.no_silent_downcasting', True)`\n",
            "  data = data.replace({'Seller Type':{'Dealer':0,'Individual':1}})\n",
            "C:\\Users\\Henti\\AppData\\Local\\Temp\\ipykernel_17356\\2343027753.py:4: FutureWarning: Downcasting behavior in `replace` is deprecated and will be removed in a future version. To retain the old behavior, explicitly call `result.infer_objects(copy=False)`. To opt-in to the future behavior, set `pd.set_option('future.no_silent_downcasting', True)`\n",
            "  data = data.replace({'Transmission':{'Manual':0,'Automatic':1}})\n"
          ]
        }
      ],
      "source": [
        "# Encoding Categorical Data\n",
        "data = data.replace({'Fuel Type':{'Petrol':0,'Diesel':1,'CNG':2}})\n",
        "data = data.replace({'Seller Type':{'Dealer':0,'Individual':1}})\n",
        "data = data.replace({'Transmission':{'Manual':0,'Automatic':1}})"
      ]
    },
    {
      "cell_type": "code",
      "execution_count": 215,
      "metadata": {},
      "outputs": [
        {
          "name": "stdout",
          "output_type": "stream",
          "text": [
            "<class 'pandas.core.frame.DataFrame'>\n",
            "RangeIndex: 301 entries, 0 to 300\n",
            "Data columns (total 8 columns):\n",
            " #   Column         Non-Null Count  Dtype  \n",
            "---  ------         --------------  -----  \n",
            " 0   Year           301 non-null    int64  \n",
            " 1   Selling Price  301 non-null    float64\n",
            " 2   Present Price  301 non-null    float64\n",
            " 3   Kms Driven     301 non-null    int64  \n",
            " 4   Fuel Type      301 non-null    int64  \n",
            " 5   Seller Type    301 non-null    int64  \n",
            " 6   Transmission   301 non-null    int64  \n",
            " 7   Owner          301 non-null    int64  \n",
            "dtypes: float64(2), int64(6)\n",
            "memory usage: 18.9 KB\n"
          ]
        }
      ],
      "source": [
        "data = data.drop('Car Name', axis=1)\n",
        "data.info()"
      ]
    },
    {
      "cell_type": "markdown",
      "metadata": {},
      "source": [
        "### Trying Robust scaler:"
      ]
    },
    {
      "cell_type": "code",
      "execution_count": 217,
      "metadata": {},
      "outputs": [
        {
          "data": {
            "text/html": [
              "<div>\n",
              "<style scoped>\n",
              "    .dataframe tbody tr th:only-of-type {\n",
              "        vertical-align: middle;\n",
              "    }\n",
              "\n",
              "    .dataframe tbody tr th {\n",
              "        vertical-align: top;\n",
              "    }\n",
              "\n",
              "    .dataframe thead th {\n",
              "        text-align: right;\n",
              "    }\n",
              "</style>\n",
              "<table border=\"1\" class=\"dataframe\">\n",
              "  <thead>\n",
              "    <tr style=\"text-align: right;\">\n",
              "      <th></th>\n",
              "      <th>Year</th>\n",
              "      <th>Selling Price</th>\n",
              "      <th>Present Price</th>\n",
              "      <th>Kms Driven</th>\n",
              "      <th>Fuel Type</th>\n",
              "      <th>Seller Type</th>\n",
              "      <th>Transmission</th>\n",
              "      <th>Owner</th>\n",
              "    </tr>\n",
              "  </thead>\n",
              "  <tbody>\n",
              "    <tr>\n",
              "      <th>count</th>\n",
              "      <td>301.000000</td>\n",
              "      <td>301.000000</td>\n",
              "      <td>301.000000</td>\n",
              "      <td>301.000000</td>\n",
              "      <td>301.000000</td>\n",
              "      <td>301.000000</td>\n",
              "      <td>301.000000</td>\n",
              "      <td>301.000000</td>\n",
              "    </tr>\n",
              "    <tr>\n",
              "      <th>mean</th>\n",
              "      <td>2013.627907</td>\n",
              "      <td>4.661296</td>\n",
              "      <td>7.628472</td>\n",
              "      <td>36947.205980</td>\n",
              "      <td>0.212625</td>\n",
              "      <td>0.352159</td>\n",
              "      <td>0.132890</td>\n",
              "      <td>0.043189</td>\n",
              "    </tr>\n",
              "    <tr>\n",
              "      <th>std</th>\n",
              "      <td>2.891554</td>\n",
              "      <td>5.082812</td>\n",
              "      <td>8.644115</td>\n",
              "      <td>38886.883882</td>\n",
              "      <td>0.425801</td>\n",
              "      <td>0.478439</td>\n",
              "      <td>0.340021</td>\n",
              "      <td>0.247915</td>\n",
              "    </tr>\n",
              "    <tr>\n",
              "      <th>min</th>\n",
              "      <td>2003.000000</td>\n",
              "      <td>0.100000</td>\n",
              "      <td>0.320000</td>\n",
              "      <td>500.000000</td>\n",
              "      <td>0.000000</td>\n",
              "      <td>0.000000</td>\n",
              "      <td>0.000000</td>\n",
              "      <td>0.000000</td>\n",
              "    </tr>\n",
              "    <tr>\n",
              "      <th>25%</th>\n",
              "      <td>2012.000000</td>\n",
              "      <td>0.900000</td>\n",
              "      <td>1.200000</td>\n",
              "      <td>15000.000000</td>\n",
              "      <td>0.000000</td>\n",
              "      <td>0.000000</td>\n",
              "      <td>0.000000</td>\n",
              "      <td>0.000000</td>\n",
              "    </tr>\n",
              "    <tr>\n",
              "      <th>50%</th>\n",
              "      <td>2014.000000</td>\n",
              "      <td>3.600000</td>\n",
              "      <td>6.400000</td>\n",
              "      <td>32000.000000</td>\n",
              "      <td>0.000000</td>\n",
              "      <td>0.000000</td>\n",
              "      <td>0.000000</td>\n",
              "      <td>0.000000</td>\n",
              "    </tr>\n",
              "    <tr>\n",
              "      <th>75%</th>\n",
              "      <td>2016.000000</td>\n",
              "      <td>6.000000</td>\n",
              "      <td>9.900000</td>\n",
              "      <td>48767.000000</td>\n",
              "      <td>0.000000</td>\n",
              "      <td>1.000000</td>\n",
              "      <td>0.000000</td>\n",
              "      <td>0.000000</td>\n",
              "    </tr>\n",
              "    <tr>\n",
              "      <th>max</th>\n",
              "      <td>2018.000000</td>\n",
              "      <td>35.000000</td>\n",
              "      <td>92.600000</td>\n",
              "      <td>500000.000000</td>\n",
              "      <td>2.000000</td>\n",
              "      <td>1.000000</td>\n",
              "      <td>1.000000</td>\n",
              "      <td>3.000000</td>\n",
              "    </tr>\n",
              "  </tbody>\n",
              "</table>\n",
              "</div>"
            ],
            "text/plain": [
              "              Year  Selling Price  Present Price     Kms Driven   Fuel Type  \\\n",
              "count   301.000000     301.000000     301.000000     301.000000  301.000000   \n",
              "mean   2013.627907       4.661296       7.628472   36947.205980    0.212625   \n",
              "std       2.891554       5.082812       8.644115   38886.883882    0.425801   \n",
              "min    2003.000000       0.100000       0.320000     500.000000    0.000000   \n",
              "25%    2012.000000       0.900000       1.200000   15000.000000    0.000000   \n",
              "50%    2014.000000       3.600000       6.400000   32000.000000    0.000000   \n",
              "75%    2016.000000       6.000000       9.900000   48767.000000    0.000000   \n",
              "max    2018.000000      35.000000      92.600000  500000.000000    2.000000   \n",
              "\n",
              "       Seller Type  Transmission       Owner  \n",
              "count   301.000000    301.000000  301.000000  \n",
              "mean      0.352159      0.132890    0.043189  \n",
              "std       0.478439      0.340021    0.247915  \n",
              "min       0.000000      0.000000    0.000000  \n",
              "25%       0.000000      0.000000    0.000000  \n",
              "50%       0.000000      0.000000    0.000000  \n",
              "75%       1.000000      0.000000    0.000000  \n",
              "max       1.000000      1.000000    3.000000  "
            ]
          },
          "execution_count": 217,
          "metadata": {},
          "output_type": "execute_result"
        }
      ],
      "source": [
        "data.describe()"
      ]
    },
    {
      "cell_type": "code",
      "execution_count": 218,
      "metadata": {},
      "outputs": [],
      "source": [
        "data[data.columns] = RobustScaler().fit_transform(data)"
      ]
    },
    {
      "cell_type": "code",
      "execution_count": 219,
      "metadata": {},
      "outputs": [
        {
          "data": {
            "text/html": [
              "<div>\n",
              "<style scoped>\n",
              "    .dataframe tbody tr th:only-of-type {\n",
              "        vertical-align: middle;\n",
              "    }\n",
              "\n",
              "    .dataframe tbody tr th {\n",
              "        vertical-align: top;\n",
              "    }\n",
              "\n",
              "    .dataframe thead th {\n",
              "        text-align: right;\n",
              "    }\n",
              "</style>\n",
              "<table border=\"1\" class=\"dataframe\">\n",
              "  <thead>\n",
              "    <tr style=\"text-align: right;\">\n",
              "      <th></th>\n",
              "      <th>Year</th>\n",
              "      <th>Selling Price</th>\n",
              "      <th>Present Price</th>\n",
              "      <th>Kms Driven</th>\n",
              "      <th>Fuel Type</th>\n",
              "      <th>Seller Type</th>\n",
              "      <th>Transmission</th>\n",
              "      <th>Owner</th>\n",
              "    </tr>\n",
              "  </thead>\n",
              "  <tbody>\n",
              "    <tr>\n",
              "      <th>count</th>\n",
              "      <td>301.000000</td>\n",
              "      <td>301.000000</td>\n",
              "      <td>301.000000</td>\n",
              "      <td>301.000000</td>\n",
              "      <td>301.000000</td>\n",
              "      <td>301.000000</td>\n",
              "      <td>301.000000</td>\n",
              "      <td>301.000000</td>\n",
              "    </tr>\n",
              "    <tr>\n",
              "      <th>mean</th>\n",
              "      <td>-0.093023</td>\n",
              "      <td>0.208097</td>\n",
              "      <td>0.141204</td>\n",
              "      <td>0.146510</td>\n",
              "      <td>0.212625</td>\n",
              "      <td>0.352159</td>\n",
              "      <td>0.132890</td>\n",
              "      <td>0.043189</td>\n",
              "    </tr>\n",
              "    <tr>\n",
              "      <th>std</th>\n",
              "      <td>0.722889</td>\n",
              "      <td>0.996630</td>\n",
              "      <td>0.993576</td>\n",
              "      <td>1.151624</td>\n",
              "      <td>0.425801</td>\n",
              "      <td>0.478439</td>\n",
              "      <td>0.340021</td>\n",
              "      <td>0.247915</td>\n",
              "    </tr>\n",
              "    <tr>\n",
              "      <th>min</th>\n",
              "      <td>-2.750000</td>\n",
              "      <td>-0.686275</td>\n",
              "      <td>-0.698851</td>\n",
              "      <td>-0.932863</td>\n",
              "      <td>0.000000</td>\n",
              "      <td>0.000000</td>\n",
              "      <td>0.000000</td>\n",
              "      <td>0.000000</td>\n",
              "    </tr>\n",
              "    <tr>\n",
              "      <th>25%</th>\n",
              "      <td>-0.500000</td>\n",
              "      <td>-0.529412</td>\n",
              "      <td>-0.597701</td>\n",
              "      <td>-0.503450</td>\n",
              "      <td>0.000000</td>\n",
              "      <td>0.000000</td>\n",
              "      <td>0.000000</td>\n",
              "      <td>0.000000</td>\n",
              "    </tr>\n",
              "    <tr>\n",
              "      <th>50%</th>\n",
              "      <td>0.000000</td>\n",
              "      <td>0.000000</td>\n",
              "      <td>0.000000</td>\n",
              "      <td>0.000000</td>\n",
              "      <td>0.000000</td>\n",
              "      <td>0.000000</td>\n",
              "      <td>0.000000</td>\n",
              "      <td>0.000000</td>\n",
              "    </tr>\n",
              "    <tr>\n",
              "      <th>75%</th>\n",
              "      <td>0.500000</td>\n",
              "      <td>0.470588</td>\n",
              "      <td>0.402299</td>\n",
              "      <td>0.496550</td>\n",
              "      <td>0.000000</td>\n",
              "      <td>1.000000</td>\n",
              "      <td>0.000000</td>\n",
              "      <td>0.000000</td>\n",
              "    </tr>\n",
              "    <tr>\n",
              "      <th>max</th>\n",
              "      <td>1.000000</td>\n",
              "      <td>6.156863</td>\n",
              "      <td>9.908046</td>\n",
              "      <td>13.859685</td>\n",
              "      <td>2.000000</td>\n",
              "      <td>1.000000</td>\n",
              "      <td>1.000000</td>\n",
              "      <td>3.000000</td>\n",
              "    </tr>\n",
              "  </tbody>\n",
              "</table>\n",
              "</div>"
            ],
            "text/plain": [
              "             Year  Selling Price  Present Price  Kms Driven   Fuel Type  \\\n",
              "count  301.000000     301.000000     301.000000  301.000000  301.000000   \n",
              "mean    -0.093023       0.208097       0.141204    0.146510    0.212625   \n",
              "std      0.722889       0.996630       0.993576    1.151624    0.425801   \n",
              "min     -2.750000      -0.686275      -0.698851   -0.932863    0.000000   \n",
              "25%     -0.500000      -0.529412      -0.597701   -0.503450    0.000000   \n",
              "50%      0.000000       0.000000       0.000000    0.000000    0.000000   \n",
              "75%      0.500000       0.470588       0.402299    0.496550    0.000000   \n",
              "max      1.000000       6.156863       9.908046   13.859685    2.000000   \n",
              "\n",
              "       Seller Type  Transmission       Owner  \n",
              "count   301.000000    301.000000  301.000000  \n",
              "mean      0.352159      0.132890    0.043189  \n",
              "std       0.478439      0.340021    0.247915  \n",
              "min       0.000000      0.000000    0.000000  \n",
              "25%       0.000000      0.000000    0.000000  \n",
              "50%       0.000000      0.000000    0.000000  \n",
              "75%       1.000000      0.000000    0.000000  \n",
              "max       1.000000      1.000000    3.000000  "
            ]
          },
          "execution_count": 219,
          "metadata": {},
          "output_type": "execute_result"
        }
      ],
      "source": [
        "data.describe()"
      ]
    },
    {
      "cell_type": "code",
      "execution_count": 220,
      "metadata": {},
      "outputs": [
        {
          "data": {
            "image/png": "[encoded data removed]",
            "text/plain": [
              "<Figure size 1600x500 with 2 Axes>"
            ]
          },
          "metadata": {},
          "output_type": "display_data"
        }
      ],
      "source": [
        "fig, (ax_selling, ax_present) = plt.subplots(1, 2, figsize=(16, 5))\n",
        "ax_selling.boxplot(data['Selling Price'])\n",
        "ax_present.boxplot(data['Present Price'])\n",
        "plt.show()\n",
        "# plt.scatter(data['Selling Price'], data['Present Price'], s=1)"
      ]
    },
    {
      "cell_type": "markdown",
      "metadata": {},
      "source": [
        "## Estimation using sk-learn LinearRegression class"
      ]
    },
    {
      "cell_type": "code",
      "execution_count": 221,
      "metadata": {},
      "outputs": [],
      "source": [
        "X = data.drop(['Selling Price'], axis=1)\n",
        "Y = data['Selling Price']\n",
        "X_train, X_test, Y_train, Y_test = train_test_split(X, Y, train_size=0.7)"
      ]
    },
    {
      "cell_type": "code",
      "execution_count": 222,
      "metadata": {},
      "outputs": [
        {
          "data": {
            "text/plain": [
              "((210, 7), (91, 7))"
            ]
          },
          "execution_count": 222,
          "metadata": {},
          "output_type": "execute_result"
        }
      ],
      "source": [
        "X_train.shape, X_test.shape"
      ]
    },
    {
      "cell_type": "markdown",
      "metadata": {},
      "source": [
        "### Scores using 'Present Price' feature only:\n",
        " - Train score: 0.7912190751012238\n",
        " - Test score: 0.6873518619001651\n"
      ]
    },
    {
      "cell_type": "code",
      "execution_count": 223,
      "metadata": {},
      "outputs": [
        {
          "name": "stdout",
          "output_type": "stream",
          "text": [
            "Train score: 0.8922254971900911\n",
            "Test score: 0.7324163242472084\n"
          ]
        }
      ],
      "source": [
        "model = SK_LinearRegression()\n",
        "model.fit(X_train, Y_train)\n",
        "Y_pred = model.predict(X_test)\n",
        "\n",
        "print(f\"Train score: {r2_score(Y_train, model.predict(X_train))}\")\n",
        "print(f\"Test score: {r2_score(Y_test, Y_pred)}\")"
      ]
    },
    {
      "cell_type": "markdown",
      "metadata": {},
      "source": [
        "## Linear Regression (n-dimensional) implementation"
      ]
    },
    {
      "cell_type": "code",
      "execution_count": 224,
      "metadata": {
        "id": "uHNUgTbBS1l7"
      },
      "outputs": [],
      "source": [
        "class LinearRegression():\n",
        "    def __init__(self, X, Y):\n",
        "        self.X = X\n",
        "        self.Y = Y\n",
        "        # n - sample size, m - number of features\n",
        "        self.n, self.m = self.X.shape \n",
        "        self.reset_weights()\n",
        "        # self.normalize()\n",
        "        self.X, self.X_min, self.X_max   = self.normalize(self.X)\n",
        "        self.Y, self.Y_min, self.Y_max = self.normalize(self.Y)\n",
        "\n",
        "    @staticmethod\n",
        "    def normalize(data):\n",
        "        data_min, data_max = data.min(axis=0), data.max(axis=0)\n",
        "        return (data - data_min) / ( data_max - data_min), data_min, data_max\n",
        "\n",
        "    def reset_weights(self):\n",
        "        self.W = np.zeros((self.m, 1))\n",
        "        self.b = 0\n",
        "        self.err_history = []\n",
        "\n",
        "    def denormalize(self, data, min_val, max_val):\n",
        "        return data * (max_val - min_val) + min_val\n",
        "\n",
        "    def predict(self, new_X, denormalize=True):\n",
        "        y_hat = new_X@self.W + self.b\n",
        "        if denormalize:\n",
        "            y_hat = self.denormalize( y_hat, self.Y_min, self.Y_max )\n",
        "        return y_hat\n",
        "\n",
        "    def train(self, alpha=0.01, epochs=10, minimum=0.01):\n",
        "        self.reset_weights()\n",
        "\n",
        "        for epoch in range(epochs):\n",
        "            Y_hat = self.X@self.W + self.b\n",
        "            \n",
        "            gradient = alpha * self.X.T @ (self.Y-Y_hat) * (-1)\n",
        "            self.W -= gradient\n",
        "            self.b -= alpha * (-1) * (self.Y-Y_hat).mean()\n",
        "\n",
        "            MSE_error = (0.5*(self.Y - Y_hat)**2).mean()\n",
        "            self.err_history.append(MSE_error)\n",
        "\n",
        "            if MSE_error <= minimum:\n",
        "                print(f\"Minimim break on {epoch}\")\n",
        "                break\n",
        "\n",
        "LR = LinearRegression(X_train.to_numpy(), Y_train.to_numpy()[..., np.newaxis])"
      ]
    },
    {
      "cell_type": "code",
      "execution_count": 225,
      "metadata": {},
      "outputs": [
        {
          "data": {
            "text/plain": [
              "((210, 7), (210, 1))"
            ]
          },
          "execution_count": 225,
          "metadata": {},
          "output_type": "execute_result"
        }
      ],
      "source": [
        "LR.X.shape, LR.Y.shape"
      ]
    },
    {
      "cell_type": "code",
      "execution_count": 226,
      "metadata": {
        "id": "Mn3uvoADS1dR"
      },
      "outputs": [],
      "source": [
        "LR.train(alpha=0.001, epochs=100, minimum=0.001)"
      ]
    },
    {
      "cell_type": "code",
      "execution_count": 242,
      "metadata": {},
      "outputs": [
        {
          "name": "stdout",
          "output_type": "stream",
          "text": [
            "Train score: -0.8446841332936899\n",
            "Test score: -2.864796691043023\n"
          ]
        },
        {
          "data": {
            "image/png": "[encoded data removed]",
            "text/plain": [
              "<Figure size 1200x400 with 2 Axes>"
            ]
          },
          "metadata": {},
          "output_type": "display_data"
        }
      ],
      "source": [
        "fig, axis = plt.subplots(1, 2, figsize=(12, 4))\n",
        "\n",
        "for ax, (x_true, y_true), title in zip(axis, [(X_train, Y_train), (X_test, Y_test)], ('Train', 'Test')):\n",
        "    x_true, y_true = x_true.to_numpy(), y_true.to_numpy()\n",
        "    y_hat = LR.predict(x_true).flatten() ## to do_ auto-normalization inside .predict() method\n",
        "    ax.scatter(y_true, y_hat, s=5)\n",
        "    # x=y line plot \n",
        "    ax.plot((y_true.min(), y_true.max()), (y_true.min(), y_true.max()), c='red')\n",
        "    ax.set_title(title)\n",
        "    print(f\"{title} score: {r2_score( y_true, y_hat)}\")\n",
        "\n",
        "plt.show()"
      ]
    },
    {
      "cell_type": "code",
      "execution_count": 243,
      "metadata": {
        "colab": {
          "base_uri": "https://localhost:8080/",
          "height": 430
        },
        "id": "Jz1hldJxYTUI",
        "outputId": "6781168c-c8c3-4d05-b70a-4cfa916d2138"
      },
      "outputs": [
        {
          "name": "stdout",
          "output_type": "stream",
          "text": [
            "[0.02274331452435491, 0.01920166604211448, 0.016613317710863332, 0.014689050568750106, 0.013230729013403848, 0.012102299845283682, 0.011210054243056456, 0.010489191443118237, 0.009894669797228025, 0.009394974974771418, 0.008967873196629762, 0.00859751540487568, 0.00827246099071571, 0.007984327598171661, 0.007726867322748005, 0.007495333433269953, 0.00728604515241735, 0.0070960875612253406, 0.006923103782645732, 0.006765150267706395, 0.006620595308117615, 0.0064880472280028426, 0.00636630301480447, 0.006254311081565398, 0.0061511438493032, 0.006055977198103028, 0.005968074762273974, 0.005886775676820595, 0.005811484813716425, 0.005741664841076344, 0.005676829639885616, 0.0056165387511069335, 0.005560392620930645, 0.005508028477391997, 0.005459116716902485, 0.005413357710796869, 0.005370478964121166, 0.005330232574535421, 0.005292392950395287, 0.005256754755184251, 0.005223131051434806, 0.005191351621745669, 0.005161261447915266, 0.0051327193318726734, 0.005105596644206022, 0.005079776187810356, 0.0050551511656034736, 0.005031624242460943, 0.005009106692550527, 0.004987517624138446, 0.004966783274721202, 0.004946836370027072, 0.004927615541045411, 0.0049090647937908, 0.004891133027002024, 0.004873773593419674, 0.004856943900686974, 0.004840605048280665, 0.004824721497207236, 0.004809260769497093, 0.0047941931747994245, 0.004779491561625453, 0.00476513109101051, 0.004751089030567442, 0.0047373445670877996, 0.0047238786360141866, 0.004710673766259085, 0.004697713938983471, 0.0046849844590741456, 0.00467247183817276, 0.00466016368821339, 0.004648048624519853, 0.004636116177599827, 0.004624356712850851, 0.004612761357464356, 0.004601321933878337, 0.00459003089918808, 0.0045788812899777084, 0.004567866672083897, 0.004556981094847271, 0.004546219049447196, 0.004535575430952146, 0.004525045503751162, 0.004514624870062034, 0.004504309441239405, 0.00449409541163097, 0.004483979234752659, 0.004473957601574433, 0.004464027420727074, 0.004454185800457504, 0.004444430032175718, 0.0044347575754505476, 0.004425166044324404, 0.004415653194828806, 0.004406216913593172, 0.0043968552074490665, 0.004387566193940872, 0.004378348092661893, 0.0043691992173422005, 0.00436011796862114]\n"
          ]
        },
        {
          "data": {
            "image/png": "[encoded data removed]",
            "text/plain": [
              "<Figure size 640x480 with 1 Axes>"
            ]
          },
          "metadata": {},
          "output_type": "display_data"
        }
      ],
      "source": [
        "print(LR.err_history)\n",
        "plt.plot( LR.err_history )\n",
        "plt.show()"
      ]
    },
    {
      "cell_type": "code",
      "execution_count": 244,
      "metadata": {},
      "outputs": [
        {
          "data": {
            "text/plain": [
              "((41, 1), (41, 1))"
            ]
          },
          "execution_count": 244,
          "metadata": {},
          "output_type": "execute_result"
        }
      ],
      "source": [
        "X_1d = [1.48, 1.49, 1.49, 1.50, 1.51, 1.52, 1.52, 1.53, 1.53, 1.54, 1.55, 1.56, 1.57, 1.57, 1.58, 1.58, 1.59, 1.60, 1.61, 1.62, 1.63, 1.64, 1.65, 1.65, 1.66, 1.67, 1.67, 1.68, 1.68,  1.69, 1.70, 1.70, 1.71, 1.71, 1.71, 1.74, 1.75, 1.76, 1.77, 1.77, 1.78]\n",
        "y_1d = [29.1, 30.0, 30.1, 30.2, 30.4, 30.6, 30.8, 30.9, 31.0, 30.6, 30.7, 30.9, 31.0, 31.2, 31.3, 32.0, 31.4, 31.9, 32.4, 32.8, 32.8, 33.3, 33.6, 33.0, 33.9, 33.8, 35.0, 34.5, 34.7, 34.6, 34.2, 34.8, 35.5, 36.0, 36.2, 36.3, 36.6, 36.8, 36.8, 37.0, 38.5]\n",
        "\n",
        "X_1d = np.array(X_1d).reshape(len(X_1d), 1)\n",
        "y_1d = np.array(y_1d).reshape(len(y_1d), 1)\n",
        "X_1d.shape, y_1d.shape\n",
        "# plt.scatter(X_1d, y_1d)"
      ]
    },
    {
      "cell_type": "code",
      "execution_count": 245,
      "metadata": {},
      "outputs": [],
      "source": [
        "LR_1d = LinearRegression(X_1d, y_1d)\n",
        "LR_1d.train(alpha=0.01, epochs=100, minimum=0.001)"
      ]
    },
    {
      "cell_type": "code",
      "execution_count": 246,
      "metadata": {},
      "outputs": [
        {
          "name": "stdout",
          "output_type": "stream",
          "text": [
            "[[0.83124432]] 0.02595538373527543\n"
          ]
        },
        {
          "data": {
            "image/png": "[encoded data removed]",
            "text/plain": [
              "<Figure size 640x480 with 1 Axes>"
            ]
          },
          "metadata": {},
          "output_type": "display_data"
        }
      ],
      "source": [
        "print(LR_1d.W, LR_1d.b)\n",
        "plt.plot( LR_1d.err_history )\n",
        "plt.show()"
      ]
    },
    {
      "cell_type": "code",
      "execution_count": 247,
      "metadata": {
        "colab": {
          "base_uri": "https://localhost:8080/",
          "height": 447
        },
        "id": "H8gSs2CjW5D5",
        "outputId": "4a696e4c-aa67-442a-d03b-e4ef431d9008"
      },
      "outputs": [
        {
          "data": {
            "text/plain": [
              "[<matplotlib.lines.Line2D at 0x1f923f0f860>]"
            ]
          },
          "execution_count": 247,
          "metadata": {},
          "output_type": "execute_result"
        },
        {
          "data": {
            "image/png": "[encoded data removed]",
            "text/plain": [
              "<Figure size 640x480 with 1 Axes>"
            ]
          },
          "metadata": {},
          "output_type": "display_data"
        }
      ],
      "source": [
        "plt.scatter(X_1d, y_1d)\n",
        "plt.plot( X_1d, LR_1d.predict(LR_1d.X), c='red' )"
      ]
    },
    {
      "cell_type": "code",
      "execution_count": 248,
      "metadata": {},
      "outputs": [],
      "source": [
        "\n",
        "class KD_LinearRegression:\n",
        "    def __init__(self, lr: int = 0.01, n_iters: int = 1000) -> None:\n",
        "        self.lr = lr\n",
        "        self.n_iters = n_iters\n",
        "        self.weights = None\n",
        "        self.bias = None\n",
        "\n",
        "    def fit(self, X, y):\n",
        "        num_samples, num_features = X.shape     # X shape [N, f]\n",
        "        self.weights = np.random.rand(num_features)  # W shape [f, 1]\n",
        "        self.bias = 0\n",
        "        err_history = []\n",
        "\n",
        "        for i in range(self.n_iters):\n",
        "\n",
        "            # y_pred shape should be N, 1\n",
        "            y_pred = np.dot(X, self.weights) + self.bias\n",
        "\n",
        "            # X -> [N,f]\n",
        "            # y_pred -> [N]\n",
        "            # dw -> [f]\n",
        "            dw = (1 / num_samples) * np.dot(X.T, y_pred - y)\n",
        "            db = (1 / num_samples) * np.sum(y_pred - y)\n",
        "\n",
        "            self.weights = self.weights - self.lr * dw\n",
        "            self.bias = self.bias - self.lr * db\n",
        "            err_history.append( ((y_pred-y)**2).mean() )\n",
        "\n",
        "        return err_history\n",
        "\n",
        "    def predict(self, X):\n",
        "        return np.dot(X, self.weights) + self.bias"
      ]
    },
    {
      "cell_type": "code",
      "execution_count": null,
      "metadata": {},
      "outputs": [],
      "source": []
    },
    {
      "cell_type": "markdown",
      "metadata": {},
      "source": []
    },
    {
      "cell_type": "markdown",
      "metadata": {},
      "source": [
        "# Tesing results, Comparing to the Sk-learn implementation:"
      ]
    },
    {
      "cell_type": "code",
      "execution_count": 2,
      "metadata": {
        "id": "CrAyk2WksXgE"
      },
      "outputs": [],
      "source": [
        "X = [1.48, 1.49, 1.49, 1.50, 1.51, 1.52, 1.52, 1.53, 1.53, 1.54, 1.55, 1.56, 1.57, 1.57, 1.58, 1.58, 1.59, 1.60, 1.61, 1.62, 1.63, 1.64, 1.65, 1.65, 1.66, 1.67, 1.67, 1.68, 1.68,  1.69, 1.70, 1.70, 1.71, 1.71, 1.71, 1.74, 1.75, 1.76, 1.77, 1.77, 1.78]\n",
        "y = [29.1, 30.0, 30.1, 30.2, 30.4, 30.6, 30.8, 30.9, 31.0, 30.6, 30.7, 30.9, 31.0, 31.2, 31.3, 32.0, 31.4, 31.9, 32.4, 32.8, 32.8, 33.3, 33.6, 33.0, 33.9, 33.8, 35.0, 34.5, 34.7, 34.6, 34.2, 34.8, 35.5, 36.0, 36.2, 36.3, 36.6, 36.8, 36.8, 37.0, 38.5]\n",
        "\n",
        "X = np.array(X)\n",
        "y = np.array(y)"
      ]
    },
    {
      "cell_type": "code",
      "execution_count": null,
      "metadata": {
        "id": "9h06VHHD2eL3"
      },
      "outputs": [],
      "source": [
        "# импортируем библиотеку Numpy\n",
        "import numpy as np\n",
        "\n",
        "# преобразуем наш список X сначала в одномерный массив Numpy, а затем добавим второе измерение\n",
        "X = np.array(X).reshape(-1, 1)\n",
        "\n",
        "# список y достаточно преобразовать в одномерный массив Numpy\n",
        "y = np.array(y)"
      ]
    },
    {
      "cell_type": "code",
      "execution_count": null,
      "metadata": {
        "colab": {
          "base_uri": "https://localhost:8080/",
          "height": 75
        },
        "id": "xtQriCj51Z7B",
        "outputId": "5cb65781-decf-4819-cdca-7f927dac4b12"
      },
      "outputs": [
        {
          "data": {
            "text/html": [
              "<style>#sk-container-id-8 {color: black;background-color: white;}#sk-container-id-8 pre{padding: 0;}#sk-container-id-8 div.sk-toggleable {background-color: white;}#sk-container-id-8 label.sk-toggleable__label {cursor: pointer;display: block;width: 100%;margin-bottom: 0;padding: 0.3em;box-sizing: border-box;text-align: center;}#sk-container-id-8 label.sk-toggleable__label-arrow:before {content: \"▸\";float: left;margin-right: 0.25em;color: #696969;}#sk-container-id-8 label.sk-toggleable__label-arrow:hover:before {color: black;}#sk-container-id-8 div.sk-estimator:hover label.sk-toggleable__label-arrow:before {color: black;}#sk-container-id-8 div.sk-toggleable__content {max-height: 0;max-width: 0;overflow: hidden;text-align: left;background-color: #f0f8ff;}#sk-container-id-8 div.sk-toggleable__content pre {margin: 0.2em;color: black;border-radius: 0.25em;background-color: #f0f8ff;}#sk-container-id-8 input.sk-toggleable__control:checked~div.sk-toggleable__content {max-height: 200px;max-width: 100%;overflow: auto;}#sk-container-id-8 input.sk-toggleable__control:checked~label.sk-toggleable__label-arrow:before {content: \"▾\";}#sk-container-id-8 div.sk-estimator input.sk-toggleable__control:checked~label.sk-toggleable__label {background-color: #d4ebff;}#sk-container-id-8 div.sk-label input.sk-toggleable__control:checked~label.sk-toggleable__label {background-color: #d4ebff;}#sk-container-id-8 input.sk-hidden--visually {border: 0;clip: rect(1px 1px 1px 1px);clip: rect(1px, 1px, 1px, 1px);height: 1px;margin: -1px;overflow: hidden;padding: 0;position: absolute;width: 1px;}#sk-container-id-8 div.sk-estimator {font-family: monospace;background-color: #f0f8ff;border: 1px dotted black;border-radius: 0.25em;box-sizing: border-box;margin-bottom: 0.5em;}#sk-container-id-8 div.sk-estimator:hover {background-color: #d4ebff;}#sk-container-id-8 div.sk-parallel-item::after {content: \"\";width: 100%;border-bottom: 1px solid gray;flex-grow: 1;}#sk-container-id-8 div.sk-label:hover label.sk-toggleable__label {background-color: #d4ebff;}#sk-container-id-8 div.sk-serial::before {content: \"\";position: absolute;border-left: 1px solid gray;box-sizing: border-box;top: 0;bottom: 0;left: 50%;z-index: 0;}#sk-container-id-8 div.sk-serial {display: flex;flex-direction: column;align-items: center;background-color: white;padding-right: 0.2em;padding-left: 0.2em;position: relative;}#sk-container-id-8 div.sk-item {position: relative;z-index: 1;}#sk-container-id-8 div.sk-parallel {display: flex;align-items: stretch;justify-content: center;background-color: white;position: relative;}#sk-container-id-8 div.sk-item::before, #sk-container-id-8 div.sk-parallel-item::before {content: \"\";position: absolute;border-left: 1px solid gray;box-sizing: border-box;top: 0;bottom: 0;left: 50%;z-index: -1;}#sk-container-id-8 div.sk-parallel-item {display: flex;flex-direction: column;z-index: 1;position: relative;background-color: white;}#sk-container-id-8 div.sk-parallel-item:first-child::after {align-self: flex-end;width: 50%;}#sk-container-id-8 div.sk-parallel-item:last-child::after {align-self: flex-start;width: 50%;}#sk-container-id-8 div.sk-parallel-item:only-child::after {width: 0;}#sk-container-id-8 div.sk-dashed-wrapped {border: 1px dashed gray;margin: 0 0.4em 0.5em 0.4em;box-sizing: border-box;padding-bottom: 0.4em;background-color: white;}#sk-container-id-8 div.sk-label label {font-family: monospace;font-weight: bold;display: inline-block;line-height: 1.2em;}#sk-container-id-8 div.sk-label-container {text-align: center;}#sk-container-id-8 div.sk-container {/* jupyter's `normalize.less` sets `[hidden] { display: none; }` but bootstrap.min.css set `[hidden] { display: none !important; }` so we also need the `!important` here to be able to override the default hidden behavior on the sphinx rendered scikit-learn.org. See: https://github.com/scikit-learn/scikit-learn/issues/21755 */display: inline-block !important;position: relative;}#sk-container-id-8 div.sk-text-repr-fallback {display: none;}</style><div id=\"sk-container-id-8\" class=\"sk-top-container\"><div class=\"sk-text-repr-fallback\"><pre>LinearRegression()</pre><b>In a Jupyter environment, please rerun this cell to show the HTML representation or trust the notebook. <br />On GitHub, the HTML representation is unable to render, please try loading this page with nbviewer.org.</b></div><div class=\"sk-container\" hidden><div class=\"sk-item\"><div class=\"sk-estimator sk-toggleable\"><input class=\"sk-toggleable__control sk-hidden--visually\" id=\"sk-estimator-id-8\" type=\"checkbox\" checked><label for=\"sk-estimator-id-8\" class=\"sk-toggleable__label sk-toggleable__label-arrow\">LinearRegression</label><div class=\"sk-toggleable__content\"><pre>LinearRegression()</pre></div></div></div></div></div>"
            ],
            "text/plain": [
              "LinearRegression()"
            ]
          },
          "execution_count": 328,
          "metadata": {},
          "output_type": "execute_result"
        }
      ],
      "source": [
        "# из набора линейных моделей библиотеки sklearn импортируем линейную регрессию\n",
        "from sklearn.linear_model import LinearRegression\n",
        "\n",
        "# создадим объект этого класса и запишем в переменную model\n",
        "model = LinearRegression()\n",
        "\n",
        "# обучим нашу модель\n",
        "# т.е. найдем те самые веса или наклон и сдвиг прямой с помощью функции потерь\n",
        "model.fit(X, y)"
      ]
    },
    {
      "cell_type": "code",
      "execution_count": null,
      "metadata": {
        "colab": {
          "base_uri": "https://localhost:8080/"
        },
        "id": "9NKxkMAC1x1f",
        "outputId": "57a03593-2391-48d3-b26e-bc1ebc72baa3"
      },
      "outputs": [
        {
          "name": "stdout",
          "output_type": "stream",
          "text": [
            "[26.86181201] -10.570936299787334\n"
          ]
        }
      ],
      "source": [
        "# выведем наклон и сдвиг с помощью атрибутов coef_ и intercept_ соответственно\n",
        "print(model.coef_, model.intercept_)"
      ]
    },
    {
      "cell_type": "markdown",
      "metadata": {
        "id": "zmG8KchU3ttk"
      },
      "source": [
        "Новое уравнение, найдено с помощью библиотеки Scikit-learn:\n",
        "\n",
        "$$ y = 26.86x - 10.57 $$"
      ]
    },
    {
      "cell_type": "code",
      "execution_count": null,
      "metadata": {
        "colab": {
          "base_uri": "https://localhost:8080/",
          "height": 447
        },
        "id": "AAuQnFu4eOPo",
        "outputId": "c75604dc-c07f-4220-f7c3-a9dfe957cd04"
      },
      "outputs": [
        {
          "data": {
            "text/plain": [
              "[<matplotlib.lines.Line2D at 0x7fe06e2f40d0>]"
            ]
          },
          "execution_count": 330,
          "metadata": {},
          "output_type": "execute_result"
        },
        {
          "data": {
            "image/png": "[encoded data removed]",
            "text/plain": [
              "<Figure size 640x480 with 1 Axes>"
            ]
          },
          "metadata": {},
          "output_type": "display_data"
        }
      ],
      "source": [
        "y_sklearn = lambda x: model.coef_*x + model.intercept_\n",
        "plt.scatter(X, y)\n",
        "plt.plot( X, y_sklearn(X), c='purple' )"
      ]
    },
    {
      "cell_type": "code",
      "execution_count": null,
      "metadata": {
        "colab": {
          "base_uri": "https://localhost:8080/"
        },
        "id": "NhMDjVJh3qe9",
        "outputId": "a4a1d6ca-cc91-431f-c8b2-6a8e907e67cb"
      },
      "outputs": [
        {
          "name": "stdout",
          "output_type": "stream",
          "text": [
            "[29.18454547 29.45316359 29.45316359 29.72178171 29.99039983]\n"
          ]
        }
      ],
      "source": [
        "# на основе значений роста (Х) предскажем значения обхвата шеи\n",
        "y_pred = model.predict(X)\n",
        "\n",
        "# выведем первые пять значений, с помощью диапазоне индексов\n",
        "print(y_pred[:5])"
      ]
    },
    {
      "cell_type": "code",
      "execution_count": null,
      "metadata": {
        "colab": {
          "base_uri": "https://localhost:8080/"
        },
        "id": "cA28x_SC4Nhn",
        "outputId": "66bc3796-3162-4d3b-f30b-f900f9265e99"
      },
      "outputs": [
        {
          "name": "stdout",
          "output_type": "stream",
          "text": [
            "Mean Squared Error (MSE): 0.00257287870832655\n"
          ]
        }
      ],
      "source": [
        "# импортируем модуль метрик, то есть измерений качества моделей\n",
        "from sklearn import metrics\n",
        "# выведем ту самую среднюю сумму расстояний или, говоря более корректно,\n",
        "# среднеквадратическую ошибку\n",
        "print('Mean Squared Error (MSE):', metrics.mean_squared_error(y, y_pred))"
      ]
    },
    {
      "cell_type": "code",
      "execution_count": null,
      "metadata": {
        "colab": {
          "base_uri": "https://localhost:8080/"
        },
        "id": "LSoeTLrc4pa_",
        "outputId": "008b5936-6f57-493b-c5ac-b44f47274974"
      },
      "outputs": [
        {
          "name": "stdout",
          "output_type": "stream",
          "text": [
            "Root Mean Squared Error (RMSE): 0.05072355181103301\n"
          ]
        }
      ],
      "source": [
        "# избавимся от квадрата в вычислениях, возьмем квадратный корень из нашей метрики\n",
        "print('Root Mean Squared Error (RMSE):', np.sqrt(metrics.mean_squared_error(y, y_pred)))"
      ]
    },
    {
      "cell_type": "code",
      "execution_count": null,
      "metadata": {
        "colab": {
          "base_uri": "https://localhost:8080/"
        },
        "id": "W_nnTp8Y5Eu3",
        "outputId": "b80708d2-b134-462a-8d8f-9108c3f59014"
      },
      "outputs": [
        {
          "data": {
            "text/plain": [
              "0.42579138557343005"
            ]
          },
          "execution_count": 133,
          "metadata": {},
          "output_type": "execute_result"
        }
      ],
      "source": [
        "# сравним RMSE со средним обхватом шеи: модель неплохо обучилась!!!\n",
        "y.mean()"
      ]
    },
    {
      "cell_type": "code",
      "execution_count": null,
      "metadata": {
        "id": "Ric0q_aZxgWJ"
      },
      "outputs": [],
      "source": []
    }
  ],
  "metadata": {
    "colab": {
      "provenance": []
    },
    "kernelspec": {
      "display_name": "Python 3",
      "name": "python3"
    },
    "language_info": {
      "codemirror_mode": {
        "name": "ipython",
        "version": 3
      },
      "file_extension": ".py",
      "mimetype": "text/x-python",
      "name": "python",
      "nbconvert_exporter": "python",
      "pygments_lexer": "ipython3",
      "version": "3.12.3"
    }
  },
  "nbformat": 4,
  "nbformat_minor": 0
}
