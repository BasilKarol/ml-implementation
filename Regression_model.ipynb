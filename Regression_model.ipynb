{
  "cells": [
    {
      "cell_type": "markdown",
      "metadata": {
        "id": "UDU8qyomsasd"
      },
      "source": [
        "# **Linear regression implementation using numpy**"
      ]
    },
    {
      "cell_type": "code",
      "execution_count": 218,
      "metadata": {
        "id": "QqkaIn2mW0UI"
      },
      "outputs": [],
      "source": [
        "import numpy as np\n",
        "import matplotlib.pyplot as plt\n",
        "import pandas as pd\n",
        "from sklearn.linear_model import LinearRegression\n",
        "from sklearn.metrics import r2_score\n",
        "from sklearn.model_selection import train_test_split"
      ]
    },
    {
      "cell_type": "markdown",
      "metadata": {},
      "source": [
        "## Data preparation using Pandas"
      ]
    },
    {
      "cell_type": "code",
      "execution_count": 219,
      "metadata": {},
      "outputs": [
        {
          "data": {
            "text/html": [
              "<div>\n",
              "<style scoped>\n",
              "    .dataframe tbody tr th:only-of-type {\n",
              "        vertical-align: middle;\n",
              "    }\n",
              "\n",
              "    .dataframe tbody tr th {\n",
              "        vertical-align: top;\n",
              "    }\n",
              "\n",
              "    .dataframe thead th {\n",
              "        text-align: right;\n",
              "    }\n",
              "</style>\n",
              "<table border=\"1\" class=\"dataframe\">\n",
              "  <thead>\n",
              "    <tr style=\"text-align: right;\">\n",
              "      <th></th>\n",
              "      <th>Car Name</th>\n",
              "      <th>Year</th>\n",
              "      <th>Selling Price</th>\n",
              "      <th>Present Price</th>\n",
              "      <th>Kms Driven</th>\n",
              "      <th>Fuel Type</th>\n",
              "      <th>Seller Type</th>\n",
              "      <th>Transmission</th>\n",
              "      <th>Owner</th>\n",
              "    </tr>\n",
              "  </thead>\n",
              "  <tbody>\n",
              "    <tr>\n",
              "      <th>0</th>\n",
              "      <td>ritz</td>\n",
              "      <td>2014</td>\n",
              "      <td>3.35</td>\n",
              "      <td>5.59</td>\n",
              "      <td>27000</td>\n",
              "      <td>Petrol</td>\n",
              "      <td>Dealer</td>\n",
              "      <td>Manual</td>\n",
              "      <td>0</td>\n",
              "    </tr>\n",
              "    <tr>\n",
              "      <th>1</th>\n",
              "      <td>sx4</td>\n",
              "      <td>2013</td>\n",
              "      <td>4.75</td>\n",
              "      <td>9.54</td>\n",
              "      <td>43000</td>\n",
              "      <td>Diesel</td>\n",
              "      <td>Dealer</td>\n",
              "      <td>Manual</td>\n",
              "      <td>0</td>\n",
              "    </tr>\n",
              "  </tbody>\n",
              "</table>\n",
              "</div>"
            ],
            "text/plain": [
              "  Car Name  Year  Selling Price  Present Price  Kms Driven Fuel Type  \\\n",
              "0     ritz  2014           3.35           5.59       27000    Petrol   \n",
              "1      sx4  2013           4.75           9.54       43000    Diesel   \n",
              "\n",
              "  Seller Type Transmission  Owner  \n",
              "0      Dealer       Manual      0  \n",
              "1      Dealer       Manual      0  "
            ]
          },
          "execution_count": 219,
          "metadata": {},
          "output_type": "execute_result"
        }
      ],
      "source": [
        "data = pd.read_csv('./car_dataset/car data.csv')\n",
        "# I hate underscores\n",
        "data.columns = data.columns.map(\n",
        "    lambda x: ' '.join(x.split('_'))\n",
        "    )\n",
        "data.head(2)"
      ]
    },
    {
      "cell_type": "code",
      "execution_count": 220,
      "metadata": {},
      "outputs": [
        {
          "name": "stderr",
          "output_type": "stream",
          "text": [
            "C:\\Users\\Henti\\AppData\\Local\\Temp\\ipykernel_11288\\1923786834.py:2: FutureWarning: Downcasting behavior in `replace` is deprecated and will be removed in a future version. To retain the old behavior, explicitly call `result.infer_objects(copy=False)`. To opt-in to the future behavior, set `pd.set_option('future.no_silent_downcasting', True)`\n",
            "  data.replace({'Fuel Type':{'Petrol':0,'Diesel':1,'CNG':2}},inplace=True)\n",
            "C:\\Users\\Henti\\AppData\\Local\\Temp\\ipykernel_11288\\1923786834.py:3: FutureWarning: Downcasting behavior in `replace` is deprecated and will be removed in a future version. To retain the old behavior, explicitly call `result.infer_objects(copy=False)`. To opt-in to the future behavior, set `pd.set_option('future.no_silent_downcasting', True)`\n",
            "  data.replace({'Seller Type':{'Dealer':0,'Individual':1}},inplace=True)\n",
            "C:\\Users\\Henti\\AppData\\Local\\Temp\\ipykernel_11288\\1923786834.py:4: FutureWarning: Downcasting behavior in `replace` is deprecated and will be removed in a future version. To retain the old behavior, explicitly call `result.infer_objects(copy=False)`. To opt-in to the future behavior, set `pd.set_option('future.no_silent_downcasting', True)`\n",
            "  data.replace({'Transmission':{'Manual':0,'Automatic':1}},inplace=True)\n"
          ]
        }
      ],
      "source": [
        "# Encoding Categorical Data\n",
        "data.replace({'Fuel Type':{'Petrol':0,'Diesel':1,'CNG':2}},inplace=True)\n",
        "data.replace({'Seller Type':{'Dealer':0,'Individual':1}},inplace=True)\n",
        "data.replace({'Transmission':{'Manual':0,'Automatic':1}},inplace=True)"
      ]
    },
    {
      "cell_type": "code",
      "execution_count": 223,
      "metadata": {},
      "outputs": [
        {
          "data": {
            "text/plain": [
              "Transmission\n",
              "0    261\n",
              "1     40\n",
              "Name: count, dtype: int64"
            ]
          },
          "execution_count": 223,
          "metadata": {},
          "output_type": "execute_result"
        }
      ],
      "source": [
        "data.value_counts('Transmission')"
      ]
    },
    {
      "cell_type": "code",
      "execution_count": 224,
      "metadata": {},
      "outputs": [],
      "source": [
        "# fuel_mask = data['Fuel Type'].isin([0, 1, 2])\n",
        "# data = data[fuel_mask]\n",
        "\n",
        "# seller_mask = data['Seller Type'].isin([0, 1])\n",
        "# data = data[seller_mask]"
      ]
    },
    {
      "cell_type": "code",
      "execution_count": 212,
      "metadata": {},
      "outputs": [],
      "source": [
        "# features = ['Seller Type', 'Fuel Type', 'Transmission', 'Year', 'Kilometer', 'Engine', 'Seating Capacity','Fuel Tank Capacity', 'Price']\n",
        "# data = data[features]\n",
        "\n",
        "# data['Seller Type'] = data['Seller Type'].map(int)\n",
        "# data['Engine'] = data['Engine'].map(lambda engine: int(engine[:-3]), na_action='ignore')\n",
        "# data['Engine']"
      ]
    },
    {
      "cell_type": "code",
      "execution_count": 225,
      "metadata": {},
      "outputs": [
        {
          "name": "stdout",
          "output_type": "stream",
          "text": [
            "<class 'pandas.core.frame.DataFrame'>\n",
            "RangeIndex: 301 entries, 0 to 300\n",
            "Data columns (total 8 columns):\n",
            " #   Column         Non-Null Count  Dtype  \n",
            "---  ------         --------------  -----  \n",
            " 0   Year           301 non-null    int64  \n",
            " 1   Selling Price  301 non-null    float64\n",
            " 2   Present Price  301 non-null    float64\n",
            " 3   Kms Driven     301 non-null    int64  \n",
            " 4   Fuel Type      301 non-null    int64  \n",
            " 5   Seller Type    301 non-null    int64  \n",
            " 6   Transmission   301 non-null    int64  \n",
            " 7   Owner          301 non-null    int64  \n",
            "dtypes: float64(2), int64(6)\n",
            "memory usage: 18.9 KB\n"
          ]
        }
      ],
      "source": [
        "data = data.drop('Car Name', axis=1)\n",
        "data['Seller Type'] = data['Seller Type'].map(int)\n",
        "data.info()"
      ]
    },
    {
      "cell_type": "code",
      "execution_count": 205,
      "metadata": {},
      "outputs": [],
      "source": [
        "# data = data.dropna(subset=['Engine', 'Seating Capacity','Fuel Tank Capacity'])\n",
        "# data.info()"
      ]
    },
    {
      "cell_type": "code",
      "execution_count": 214,
      "metadata": {},
      "outputs": [
        {
          "data": {
            "text/plain": [
              "<matplotlib.collections.PathCollection at 0x2046c8c8830>"
            ]
          },
          "execution_count": 214,
          "metadata": {},
          "output_type": "execute_result"
        },
        {
          "data": {
            "image/png": "[encoded data removed]",
            "text/plain": [
              "<Figure size 640x480 with 1 Axes>"
            ]
          },
          "metadata": {},
          "output_type": "display_data"
        }
      ],
      "source": [
        "plt.scatter(data['Selling Price'], data['Present Price'], s=1)"
      ]
    },
    {
      "cell_type": "markdown",
      "metadata": {},
      "source": [
        "## Estimation using sk-learn LinearRegression class"
      ]
    },
    {
      "cell_type": "code",
      "execution_count": 242,
      "metadata": {},
      "outputs": [],
      "source": [
        "X = data.drop(['Selling Price'], axis=1) # data['Present Price'].to_numpy()[..., np.newaxis] #\n",
        "Y = data['Selling Price']\n",
        "X_train, X_test, Y_train, Y_test = train_test_split(X, Y, train_size=0.8, random_state=42)"
      ]
    },
    {
      "cell_type": "code",
      "execution_count": 243,
      "metadata": {},
      "outputs": [
        {
          "data": {
            "text/plain": [
              "((240, 7), (61, 7))"
            ]
          },
          "execution_count": 243,
          "metadata": {},
          "output_type": "execute_result"
        }
      ],
      "source": [
        "X_train.shape, X_test.shape"
      ]
    },
    {
      "cell_type": "markdown",
      "metadata": {},
      "source": [
        "### Scores using 'Present Price' feature only:\n",
        " - Train score: 0.7912190751012238\n",
        " - Test score: 0.6873518619001651\n"
      ]
    },
    {
      "cell_type": "code",
      "execution_count": 244,
      "metadata": {},
      "outputs": [
        {
          "name": "stdout",
          "output_type": "stream",
          "text": [
            "Train score: 0.8839793496750799\n",
            "Test score: 0.8468053957652042\n"
          ]
        }
      ],
      "source": [
        "model = LinearRegression()\n",
        "model.fit(X_train, Y_train)\n",
        "Y_pred = model.predict(X_test)\n",
        "\n",
        "print(f\"Train score: {r2_score(Y_train, model.predict(X_train))}\")\n",
        "print(f\"Test score: {r2_score(Y_test, Y_pred)}\")"
      ]
    },
    {
      "cell_type": "markdown",
      "metadata": {},
      "source": [
        "## Linear Regression (n-dimensional) implementation"
      ]
    },
    {
      "cell_type": "code",
      "execution_count": 62,
      "metadata": {
        "id": "uHNUgTbBS1l7"
      },
      "outputs": [],
      "source": [
        "class LinearRegression():\n",
        "    def __init__(self, X, Y):\n",
        "        self.X = X\n",
        "        self.Y = Y\n",
        "        # n - sample size, m - number of features\n",
        "        self.n, self.m = self.X.shape \n",
        "        self.reset_weights()\n",
        "        self.normalize()\n",
        "\n",
        "    def normalize(self):\n",
        "        self.X_min, self.Y_min = self.X.min(axis=0), self.Y.min(axis=0)\n",
        "        self.X_max, self.Y_max = self.X.max(axis=0), self.Y.max(axis=0)\n",
        "        self.X = (self.X - self.X_min) / ( self.X_max - self.X_min)\n",
        "        self.Y = (self.Y - self.Y_min) / ( self.Y_max - self.Y_min)\n",
        "\n",
        "    def reset_weights(self):\n",
        "        self.W = [0]*self.m\n",
        "        self.b = 0\n",
        "        self.err_history = []\n",
        "\n",
        "    def denormalize(self, data, min_val, max_val):\n",
        "        return data * (max_val - min_val) + min_val\n",
        "\n",
        "    def predict(self, new_X):\n",
        "        y_hat = new_X*self.W + self.b\n",
        "        y_hat = self.denormalize( y_hat, self.y_min, self.y_max )\n",
        "        return y_hat\n",
        "\n",
        "    def train(self, alpha=0.01, epochs=10, minimum=0.01):\n",
        "        self.reset_weights()\n",
        "        m = len(self.X)\n",
        "        MSE_error = 0\n",
        "\n",
        "        for epoch in range(epochs):\n",
        "            for x, y in zip( self.X, self.Y ):\n",
        "                y_hat = self.W*x+self.b\n",
        "\n",
        "                self.W -= alpha* (-2* (y - y_hat)*x )\n",
        "                self.b -= alpha* (-2* (y - y_hat) )\n",
        "\n",
        "                MSE_error += (y - y_hat)**2\n",
        "            # plt.plot( X, self.predict(self.X), c='red' )\n",
        "\n",
        "            MSE_error /= m\n",
        "            self.err_history.append(MSE_error)\n",
        "            # print(f\"{self.W:<7.3f} | {self.b:<7.3f} | {MSE_error:<7.3f} -- {epoch}\")\n",
        "\n",
        "            # if MSE_error < minimum:\n",
        "            #     return None\n",
        "            MSE_error = 0\n",
        "LR = LinearRegression(X, Y)"
      ]
    },
    {
      "cell_type": "code",
      "execution_count": 64,
      "metadata": {},
      "outputs": [
        {
          "data": {
            "text/plain": [
              "array([0., 0., 0., 0., 0., 0., 0., 0., 0., 0., 0., 0., 0., 0., 0., 0., 0.,\n",
              "       0., 0., 0., 0., 0., 0., 0., 0., 0., 0., 0., 0., 0., 0., 0., 0., 0.,\n",
              "       0., 0., 0., 0., 0., 0., 0., 0., 0., 0., 0., 0., 0., 0., 0., 0., 1.,\n",
              "       1., 1., 1., 1., 1., 1., 1., 1., 1., 1., 1., 1., 1., 1., 1., 1., 1.,\n",
              "       1., 1., 1., 1., 1., 1., 1., 1., 1., 1., 1., 1., 1., 1., 1., 1., 1.,\n",
              "       1., 1., 1., 1., 1., 1., 1., 1., 1., 1., 1., 1., 1., 1., 1.])"
            ]
          },
          "execution_count": 64,
          "metadata": {},
          "output_type": "execute_result"
        }
      ],
      "source": [
        "LR.Y"
      ]
    },
    {
      "cell_type": "code",
      "execution_count": 4,
      "metadata": {
        "id": "Mn3uvoADS1dR"
      },
      "outputs": [],
      "source": [
        "LR.train(alpha=0.01, epochs=100, minimum=0.01)"
      ]
    },
    {
      "cell_type": "code",
      "execution_count": 5,
      "metadata": {
        "colab": {
          "base_uri": "https://localhost:8080/"
        },
        "id": "Y03QsIJcS1bJ",
        "outputId": "c43a6337-3494-43bc-c426-a00399ef9628"
      },
      "outputs": [
        {
          "name": "stdout",
          "output_type": "stream",
          "text": [
            "0.8695648465969253 0.004824863337128357\n"
          ]
        }
      ],
      "source": [
        "print( LR.W, LR.b )"
      ]
    },
    {
      "cell_type": "code",
      "execution_count": 7,
      "metadata": {
        "colab": {
          "base_uri": "https://localhost:8080/",
          "height": 430
        },
        "id": "Jz1hldJxYTUI",
        "outputId": "6781168c-c8c3-4d05-b70a-4cfa916d2138"
      },
      "outputs": [
        {
          "data": {
            "image/png": "[encoded data removed]",
            "text/plain": [
              "<Figure size 640x480 with 1 Axes>"
            ]
          },
          "metadata": {},
          "output_type": "display_data"
        }
      ],
      "source": [
        "plt.plot( LR.err_history )\n",
        "plt.show()"
      ]
    },
    {
      "cell_type": "code",
      "execution_count": null,
      "metadata": {
        "colab": {
          "base_uri": "https://localhost:8080/",
          "height": 447
        },
        "id": "H8gSs2CjW5D5",
        "outputId": "4a696e4c-aa67-442a-d03b-e4ef431d9008"
      },
      "outputs": [
        {
          "data": {
            "text/plain": [
              "[<matplotlib.lines.Line2D at 0x7fe06e465b40>]"
            ]
          },
          "execution_count": 326,
          "metadata": {},
          "output_type": "execute_result"
        },
        {
          "data": {
            "image/png": "[encoded data removed]",
            "text/plain": [
              "<Figure size 640x480 with 1 Axes>"
            ]
          },
          "metadata": {},
          "output_type": "display_data"
        }
      ],
      "source": [
        "plt.scatter(X, y)\n",
        "plt.plot( X, LR.predict(LR.X), c='red' )"
      ]
    },
    {
      "cell_type": "markdown",
      "metadata": {},
      "source": []
    },
    {
      "cell_type": "markdown",
      "metadata": {},
      "source": [
        "# Tesing results, Comparing to the Sk-learn implementation:"
      ]
    },
    {
      "cell_type": "code",
      "execution_count": 2,
      "metadata": {
        "id": "CrAyk2WksXgE"
      },
      "outputs": [],
      "source": [
        "X = [1.48, 1.49, 1.49, 1.50, 1.51, 1.52, 1.52, 1.53, 1.53, 1.54, 1.55, 1.56, 1.57, 1.57, 1.58, 1.58, 1.59, 1.60, 1.61, 1.62, 1.63, 1.64, 1.65, 1.65, 1.66, 1.67, 1.67, 1.68, 1.68,  1.69, 1.70, 1.70, 1.71, 1.71, 1.71, 1.74, 1.75, 1.76, 1.77, 1.77, 1.78]\n",
        "y = [29.1, 30.0, 30.1, 30.2, 30.4, 30.6, 30.8, 30.9, 31.0, 30.6, 30.7, 30.9, 31.0, 31.2, 31.3, 32.0, 31.4, 31.9, 32.4, 32.8, 32.8, 33.3, 33.6, 33.0, 33.9, 33.8, 35.0, 34.5, 34.7, 34.6, 34.2, 34.8, 35.5, 36.0, 36.2, 36.3, 36.6, 36.8, 36.8, 37.0, 38.5]\n",
        "\n",
        "X = np.array(X)\n",
        "y = np.array(y)"
      ]
    },
    {
      "cell_type": "code",
      "execution_count": null,
      "metadata": {
        "id": "9h06VHHD2eL3"
      },
      "outputs": [],
      "source": [
        "# импортируем библиотеку Numpy\n",
        "import numpy as np\n",
        "\n",
        "# преобразуем наш список X сначала в одномерный массив Numpy, а затем добавим второе измерение\n",
        "X = np.array(X).reshape(-1, 1)\n",
        "\n",
        "# список y достаточно преобразовать в одномерный массив Numpy\n",
        "y = np.array(y)"
      ]
    },
    {
      "cell_type": "code",
      "execution_count": null,
      "metadata": {
        "colab": {
          "base_uri": "https://localhost:8080/",
          "height": 75
        },
        "id": "xtQriCj51Z7B",
        "outputId": "5cb65781-decf-4819-cdca-7f927dac4b12"
      },
      "outputs": [
        {
          "data": {
            "text/html": [
              "<style>#sk-container-id-8 {color: black;background-color: white;}#sk-container-id-8 pre{padding: 0;}#sk-container-id-8 div.sk-toggleable {background-color: white;}#sk-container-id-8 label.sk-toggleable__label {cursor: pointer;display: block;width: 100%;margin-bottom: 0;padding: 0.3em;box-sizing: border-box;text-align: center;}#sk-container-id-8 label.sk-toggleable__label-arrow:before {content: \"▸\";float: left;margin-right: 0.25em;color: #696969;}#sk-container-id-8 label.sk-toggleable__label-arrow:hover:before {color: black;}#sk-container-id-8 div.sk-estimator:hover label.sk-toggleable__label-arrow:before {color: black;}#sk-container-id-8 div.sk-toggleable__content {max-height: 0;max-width: 0;overflow: hidden;text-align: left;background-color: #f0f8ff;}#sk-container-id-8 div.sk-toggleable__content pre {margin: 0.2em;color: black;border-radius: 0.25em;background-color: #f0f8ff;}#sk-container-id-8 input.sk-toggleable__control:checked~div.sk-toggleable__content {max-height: 200px;max-width: 100%;overflow: auto;}#sk-container-id-8 input.sk-toggleable__control:checked~label.sk-toggleable__label-arrow:before {content: \"▾\";}#sk-container-id-8 div.sk-estimator input.sk-toggleable__control:checked~label.sk-toggleable__label {background-color: #d4ebff;}#sk-container-id-8 div.sk-label input.sk-toggleable__control:checked~label.sk-toggleable__label {background-color: #d4ebff;}#sk-container-id-8 input.sk-hidden--visually {border: 0;clip: rect(1px 1px 1px 1px);clip: rect(1px, 1px, 1px, 1px);height: 1px;margin: -1px;overflow: hidden;padding: 0;position: absolute;width: 1px;}#sk-container-id-8 div.sk-estimator {font-family: monospace;background-color: #f0f8ff;border: 1px dotted black;border-radius: 0.25em;box-sizing: border-box;margin-bottom: 0.5em;}#sk-container-id-8 div.sk-estimator:hover {background-color: #d4ebff;}#sk-container-id-8 div.sk-parallel-item::after {content: \"\";width: 100%;border-bottom: 1px solid gray;flex-grow: 1;}#sk-container-id-8 div.sk-label:hover label.sk-toggleable__label {background-color: #d4ebff;}#sk-container-id-8 div.sk-serial::before {content: \"\";position: absolute;border-left: 1px solid gray;box-sizing: border-box;top: 0;bottom: 0;left: 50%;z-index: 0;}#sk-container-id-8 div.sk-serial {display: flex;flex-direction: column;align-items: center;background-color: white;padding-right: 0.2em;padding-left: 0.2em;position: relative;}#sk-container-id-8 div.sk-item {position: relative;z-index: 1;}#sk-container-id-8 div.sk-parallel {display: flex;align-items: stretch;justify-content: center;background-color: white;position: relative;}#sk-container-id-8 div.sk-item::before, #sk-container-id-8 div.sk-parallel-item::before {content: \"\";position: absolute;border-left: 1px solid gray;box-sizing: border-box;top: 0;bottom: 0;left: 50%;z-index: -1;}#sk-container-id-8 div.sk-parallel-item {display: flex;flex-direction: column;z-index: 1;position: relative;background-color: white;}#sk-container-id-8 div.sk-parallel-item:first-child::after {align-self: flex-end;width: 50%;}#sk-container-id-8 div.sk-parallel-item:last-child::after {align-self: flex-start;width: 50%;}#sk-container-id-8 div.sk-parallel-item:only-child::after {width: 0;}#sk-container-id-8 div.sk-dashed-wrapped {border: 1px dashed gray;margin: 0 0.4em 0.5em 0.4em;box-sizing: border-box;padding-bottom: 0.4em;background-color: white;}#sk-container-id-8 div.sk-label label {font-family: monospace;font-weight: bold;display: inline-block;line-height: 1.2em;}#sk-container-id-8 div.sk-label-container {text-align: center;}#sk-container-id-8 div.sk-container {/* jupyter's `normalize.less` sets `[hidden] { display: none; }` but bootstrap.min.css set `[hidden] { display: none !important; }` so we also need the `!important` here to be able to override the default hidden behavior on the sphinx rendered scikit-learn.org. See: https://github.com/scikit-learn/scikit-learn/issues/21755 */display: inline-block !important;position: relative;}#sk-container-id-8 div.sk-text-repr-fallback {display: none;}</style><div id=\"sk-container-id-8\" class=\"sk-top-container\"><div class=\"sk-text-repr-fallback\"><pre>LinearRegression()</pre><b>In a Jupyter environment, please rerun this cell to show the HTML representation or trust the notebook. <br />On GitHub, the HTML representation is unable to render, please try loading this page with nbviewer.org.</b></div><div class=\"sk-container\" hidden><div class=\"sk-item\"><div class=\"sk-estimator sk-toggleable\"><input class=\"sk-toggleable__control sk-hidden--visually\" id=\"sk-estimator-id-8\" type=\"checkbox\" checked><label for=\"sk-estimator-id-8\" class=\"sk-toggleable__label sk-toggleable__label-arrow\">LinearRegression</label><div class=\"sk-toggleable__content\"><pre>LinearRegression()</pre></div></div></div></div></div>"
            ],
            "text/plain": [
              "LinearRegression()"
            ]
          },
          "execution_count": 328,
          "metadata": {},
          "output_type": "execute_result"
        }
      ],
      "source": [
        "# из набора линейных моделей библиотеки sklearn импортируем линейную регрессию\n",
        "from sklearn.linear_model import LinearRegression\n",
        "\n",
        "# создадим объект этого класса и запишем в переменную model\n",
        "model = LinearRegression()\n",
        "\n",
        "# обучим нашу модель\n",
        "# т.е. найдем те самые веса или наклон и сдвиг прямой с помощью функции потерь\n",
        "model.fit(X, y)"
      ]
    },
    {
      "cell_type": "code",
      "execution_count": null,
      "metadata": {
        "colab": {
          "base_uri": "https://localhost:8080/"
        },
        "id": "9NKxkMAC1x1f",
        "outputId": "57a03593-2391-48d3-b26e-bc1ebc72baa3"
      },
      "outputs": [
        {
          "name": "stdout",
          "output_type": "stream",
          "text": [
            "[26.86181201] -10.570936299787334\n"
          ]
        }
      ],
      "source": [
        "# выведем наклон и сдвиг с помощью атрибутов coef_ и intercept_ соответственно\n",
        "print(model.coef_, model.intercept_)"
      ]
    },
    {
      "cell_type": "markdown",
      "metadata": {
        "id": "zmG8KchU3ttk"
      },
      "source": [
        "Новое уравнение, найдено с помощью библиотеки Scikit-learn:\n",
        "\n",
        "$$ y = 26.86x - 10.57 $$"
      ]
    },
    {
      "cell_type": "code",
      "execution_count": null,
      "metadata": {
        "colab": {
          "base_uri": "https://localhost:8080/",
          "height": 447
        },
        "id": "AAuQnFu4eOPo",
        "outputId": "c75604dc-c07f-4220-f7c3-a9dfe957cd04"
      },
      "outputs": [
        {
          "data": {
            "text/plain": [
              "[<matplotlib.lines.Line2D at 0x7fe06e2f40d0>]"
            ]
          },
          "execution_count": 330,
          "metadata": {},
          "output_type": "execute_result"
        },
        {
          "data": {
            "image/png": "[encoded data removed]",
            "text/plain": [
              "<Figure size 640x480 with 1 Axes>"
            ]
          },
          "metadata": {},
          "output_type": "display_data"
        }
      ],
      "source": [
        "y_sklearn = lambda x: model.coef_*x + model.intercept_\n",
        "plt.scatter(X, y)\n",
        "plt.plot( X, y_sklearn(X), c='purple' )"
      ]
    },
    {
      "cell_type": "code",
      "execution_count": null,
      "metadata": {
        "colab": {
          "base_uri": "https://localhost:8080/"
        },
        "id": "NhMDjVJh3qe9",
        "outputId": "a4a1d6ca-cc91-431f-c8b2-6a8e907e67cb"
      },
      "outputs": [
        {
          "name": "stdout",
          "output_type": "stream",
          "text": [
            "[29.18454547 29.45316359 29.45316359 29.72178171 29.99039983]\n"
          ]
        }
      ],
      "source": [
        "# на основе значений роста (Х) предскажем значения обхвата шеи\n",
        "y_pred = model.predict(X)\n",
        "\n",
        "# выведем первые пять значений, с помощью диапазоне индексов\n",
        "print(y_pred[:5])"
      ]
    },
    {
      "cell_type": "code",
      "execution_count": null,
      "metadata": {
        "colab": {
          "base_uri": "https://localhost:8080/"
        },
        "id": "cA28x_SC4Nhn",
        "outputId": "66bc3796-3162-4d3b-f30b-f900f9265e99"
      },
      "outputs": [
        {
          "name": "stdout",
          "output_type": "stream",
          "text": [
            "Mean Squared Error (MSE): 0.00257287870832655\n"
          ]
        }
      ],
      "source": [
        "# импортируем модуль метрик, то есть измерений качества моделей\n",
        "from sklearn import metrics\n",
        "# выведем ту самую среднюю сумму расстояний или, говоря более корректно,\n",
        "# среднеквадратическую ошибку\n",
        "print('Mean Squared Error (MSE):', metrics.mean_squared_error(y, y_pred))"
      ]
    },
    {
      "cell_type": "code",
      "execution_count": null,
      "metadata": {
        "colab": {
          "base_uri": "https://localhost:8080/"
        },
        "id": "LSoeTLrc4pa_",
        "outputId": "008b5936-6f57-493b-c5ac-b44f47274974"
      },
      "outputs": [
        {
          "name": "stdout",
          "output_type": "stream",
          "text": [
            "Root Mean Squared Error (RMSE): 0.05072355181103301\n"
          ]
        }
      ],
      "source": [
        "# избавимся от квадрата в вычислениях, возьмем квадратный корень из нашей метрики\n",
        "print('Root Mean Squared Error (RMSE):', np.sqrt(metrics.mean_squared_error(y, y_pred)))"
      ]
    },
    {
      "cell_type": "code",
      "execution_count": null,
      "metadata": {
        "colab": {
          "base_uri": "https://localhost:8080/"
        },
        "id": "W_nnTp8Y5Eu3",
        "outputId": "b80708d2-b134-462a-8d8f-9108c3f59014"
      },
      "outputs": [
        {
          "data": {
            "text/plain": [
              "0.42579138557343005"
            ]
          },
          "execution_count": 133,
          "metadata": {},
          "output_type": "execute_result"
        }
      ],
      "source": [
        "# сравним RMSE со средним обхватом шеи: модель неплохо обучилась!!!\n",
        "y.mean()"
      ]
    },
    {
      "cell_type": "code",
      "execution_count": null,
      "metadata": {
        "id": "Ric0q_aZxgWJ"
      },
      "outputs": [],
      "source": []
    }
  ],
  "metadata": {
    "colab": {
      "provenance": []
    },
    "kernelspec": {
      "display_name": "Python 3",
      "name": "python3"
    },
    "language_info": {
      "codemirror_mode": {
        "name": "ipython",
        "version": 3
      },
      "file_extension": ".py",
      "mimetype": "text/x-python",
      "name": "python",
      "nbconvert_exporter": "python",
      "pygments_lexer": "ipython3",
      "version": "3.12.3"
    }
  },
  "nbformat": 4,
  "nbformat_minor": 0
}
